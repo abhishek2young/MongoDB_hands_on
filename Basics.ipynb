{
 "cells": [
  {
   "cell_type": "markdown",
   "metadata": {},
   "source": [
    "Mysql : \n",
    "Relational DataBase\n",
    "structured data in the format of table/relations\n",
    "workbench/vscode\n",
    "SQL Language \n"
   ]
  },
  {
   "cell_type": "markdown",
   "metadata": {},
   "source": [
    "MongoDb : \n",
    "Non relational database,\n",
    "Unstructured data in the format of json files or dictionaries,\n",
    "compass/vscode,\n",
    "Python Language\n"
   ]
  },
  {
   "cell_type": "markdown",
   "metadata": {},
   "source": [
    "How to create connection?"
   ]
  },
  {
   "cell_type": "code",
   "execution_count": 1,
   "metadata": {},
   "outputs": [],
   "source": [
    "import pymongo\n",
    "import pandas as pd\n"
   ]
  },
  {
   "cell_type": "code",
   "execution_count": 2,
   "metadata": {},
   "outputs": [
    {
     "data": {
      "text/plain": [
       "MongoClient(host=['localhost:27017'], document_class=dict, tz_aware=False, connect=True)"
      ]
     },
     "execution_count": 2,
     "metadata": {},
     "output_type": "execute_result"
    }
   ],
   "source": [
    "client=pymongo.MongoClient(\"mongodb://localhost:27017\")\n",
    "client"
   ]
  },
  {
   "cell_type": "markdown",
   "metadata": {},
   "source": [
    "Mysql : databases >> database >> table      >>   rows and    columns,\n",
    "\n",
    "Mongodb : databases >> database >>colections >>  documents   keys"
   ]
  },
  {
   "cell_type": "markdown",
   "metadata": {},
   "source": [
    "Crud Operations \n",
    "\n",
    "1. Create Database,\n",
    "2. Create collection,\n",
    "3. Insert data (add document),\n",
    "4. read data,\n",
    "5. update data,\n",
    "6. delete data"
   ]
  },
  {
   "cell_type": "markdown",
   "metadata": {},
   "source": [
    "1. Create database "
   ]
  },
  {
   "cell_type": "code",
   "execution_count": 3,
   "metadata": {},
   "outputs": [
    {
     "data": {
      "text/plain": [
       "Database(MongoClient(host=['localhost:27017'], document_class=dict, tz_aware=False, connect=True), 'college')"
      ]
     },
     "execution_count": 3,
     "metadata": {},
     "output_type": "execute_result"
    }
   ],
   "source": [
    "db = client[\"college\"]\n",
    "db"
   ]
  },
  {
   "cell_type": "code",
   "execution_count": 4,
   "metadata": {},
   "outputs": [
    {
     "data": {
      "text/plain": [
       "['Ml', 'admin', 'config', 'local', 'mydb']"
      ]
     },
     "execution_count": 4,
     "metadata": {},
     "output_type": "execute_result"
    }
   ],
   "source": [
    "client.list_database_names()"
   ]
  },
  {
   "cell_type": "markdown",
   "metadata": {},
   "source": [
    "2. Create Collection"
   ]
  },
  {
   "cell_type": "code",
   "execution_count": 5,
   "metadata": {},
   "outputs": [
    {
     "data": {
      "text/plain": [
       "Collection(Database(MongoClient(host=['localhost:27017'], document_class=dict, tz_aware=False, connect=True), 'college'), 'student')"
      ]
     },
     "execution_count": 5,
     "metadata": {},
     "output_type": "execute_result"
    }
   ],
   "source": [
    "coll=db[\"student\"]\n",
    "coll"
   ]
  },
  {
   "cell_type": "code",
   "execution_count": 6,
   "metadata": {},
   "outputs": [
    {
     "data": {
      "text/plain": [
       "[]"
      ]
     },
     "execution_count": 6,
     "metadata": {},
     "output_type": "execute_result"
    }
   ],
   "source": [
    "db.list_collection_names()"
   ]
  },
  {
   "cell_type": "markdown",
   "metadata": {},
   "source": [
    "3. Insert data"
   ]
  },
  {
   "cell_type": "markdown",
   "metadata": {},
   "source": [
    "insert_one() : used to insert a single document ,\n",
    "\n",
    "insert_many() : used to insert multiple documents"
   ]
  },
  {
   "cell_type": "markdown",
   "metadata": {},
   "source": [
    "insert_one() : collection_name.insert_one({key:value})"
   ]
  },
  {
   "cell_type": "code",
   "execution_count": 7,
   "metadata": {},
   "outputs": [
    {
     "data": {
      "text/plain": [
       "InsertOneResult(ObjectId('65511c0d221ffc78622e56c2'), acknowledged=True)"
      ]
     },
     "execution_count": 7,
     "metadata": {},
     "output_type": "execute_result"
    }
   ],
   "source": [
    "coll.insert_one({\"rollno\":101,\"stud_name\":\"Abhishek\",\"gender\":\"m\",\"loc\":\"Noida\"})"
   ]
  },
  {
   "cell_type": "code",
   "execution_count": 8,
   "metadata": {},
   "outputs": [
    {
     "data": {
      "text/plain": [
       "['Ml', 'admin', 'college', 'config', 'local', 'mydb']"
      ]
     },
     "execution_count": 8,
     "metadata": {},
     "output_type": "execute_result"
    }
   ],
   "source": [
    "client.list_database_names()"
   ]
  },
  {
   "cell_type": "code",
   "execution_count": 9,
   "metadata": {},
   "outputs": [
    {
     "data": {
      "text/plain": [
       "['student']"
      ]
     },
     "execution_count": 9,
     "metadata": {},
     "output_type": "execute_result"
    }
   ],
   "source": [
    "db.list_collection_names()"
   ]
  },
  {
   "cell_type": "code",
   "execution_count": 10,
   "metadata": {},
   "outputs": [
    {
     "data": {
      "text/plain": [
       "InsertOneResult(ObjectId('65511c88221ffc78622e56c3'), acknowledged=True)"
      ]
     },
     "execution_count": 10,
     "metadata": {},
     "output_type": "execute_result"
    }
   ],
   "source": [
    "coll.insert_one({\"rollno\":102,\"stud_name\":\"Roma\",\"gender\":\"f\",\"loc\":\"Mumbai\"})"
   ]
  },
  {
   "cell_type": "code",
   "execution_count": 11,
   "metadata": {},
   "outputs": [
    {
     "data": {
      "text/plain": [
       "InsertOneResult(ObjectId('65511cbd221ffc78622e56c4'), acknowledged=True)"
      ]
     },
     "execution_count": 11,
     "metadata": {},
     "output_type": "execute_result"
    }
   ],
   "source": [
    "coll.insert_one({\"rollno\":103,\"stud_name\":\"Nita\",\"gender\":\"f\"})"
   ]
  },
  {
   "cell_type": "code",
   "execution_count": 12,
   "metadata": {},
   "outputs": [
    {
     "data": {
      "text/plain": [
       "InsertOneResult(ObjectId('65511d15221ffc78622e56c5'), acknowledged=True)"
      ]
     },
     "execution_count": 12,
     "metadata": {},
     "output_type": "execute_result"
    }
   ],
   "source": [
    "coll.insert_one({\"rollno\":104,\"stud_name\":\"Dhiraj\",\"gender\":\"m\",\"contact\":1234})"
   ]
  },
  {
   "cell_type": "code",
   "execution_count": 13,
   "metadata": {},
   "outputs": [
    {
     "data": {
      "text/plain": [
       "InsertOneResult(ObjectId('65511da8221ffc78622e56c6'), acknowledged=True)"
      ]
     },
     "execution_count": 13,
     "metadata": {},
     "output_type": "execute_result"
    }
   ],
   "source": [
    "coll.insert_one({\"rollno\":105,\"stud_name\":\"Akash\",\"gender\":\"m\",\n",
    "                 \"contact\":{\"email\":\"akash@gmail.com\",\"mobno\":4321}})"
   ]
  },
  {
   "cell_type": "markdown",
   "metadata": {},
   "source": [
    "insert_many() : collection_name.insert_many([{},{},{}])"
   ]
  },
  {
   "cell_type": "code",
   "execution_count": 14,
   "metadata": {},
   "outputs": [
    {
     "data": {
      "text/plain": [
       "InsertManyResult([ObjectId('65511e6f221ffc78622e56c7'), ObjectId('65511e6f221ffc78622e56c8')], acknowledged=True)"
      ]
     },
     "execution_count": 14,
     "metadata": {},
     "output_type": "execute_result"
    }
   ],
   "source": [
    "coll.insert_many([{\"rollno\":105,\"stud_name\":\"veena\"},\n",
    "                  {\"rollno\":107,\"stud_name\":\"pooja\",\"loc\":\"mumbai\"}])"
   ]
  },
  {
   "cell_type": "markdown",
   "metadata": {},
   "source": [
    "2. Read Data"
   ]
  },
  {
   "cell_type": "markdown",
   "metadata": {},
   "source": [
    "find_one() : returns a single document,\n",
    "\n",
    "find() : returns multiple documents"
   ]
  },
  {
   "cell_type": "markdown",
   "metadata": {},
   "source": [
    "find_one() : collection_name.find_one({filter condition},{select})\n",
    "\n",
    "without filter condition : returns the first document in the collection\n",
    "\n",
    "with filter condition : returs the first matched document in the collection"
   ]
  },
  {
   "cell_type": "code",
   "execution_count": 15,
   "metadata": {},
   "outputs": [
    {
     "data": {
      "text/plain": [
       "{'_id': ObjectId('65511c0d221ffc78622e56c2'),\n",
       " 'rollno': 101,\n",
       " 'stud_name': 'Abhishek',\n",
       " 'gender': 'm',\n",
       " 'loc': 'Noida'}"
      ]
     },
     "execution_count": 15,
     "metadata": {},
     "output_type": "execute_result"
    }
   ],
   "source": [
    "coll.find_one({})"
   ]
  },
  {
   "cell_type": "code",
   "execution_count": 16,
   "metadata": {},
   "outputs": [
    {
     "data": {
      "text/plain": [
       "{'rollno': 101, 'stud_name': 'Abhishek', 'gender': 'm', 'loc': 'Noida'}"
      ]
     },
     "execution_count": 16,
     "metadata": {},
     "output_type": "execute_result"
    }
   ],
   "source": [
    "coll.find_one({},{\"_id\":0})"
   ]
  },
  {
   "cell_type": "code",
   "execution_count": 17,
   "metadata": {},
   "outputs": [
    {
     "data": {
      "text/plain": [
       "{'rollno': 101, 'stud_name': 'Abhishek', 'gender': 'm'}"
      ]
     },
     "execution_count": 17,
     "metadata": {},
     "output_type": "execute_result"
    }
   ],
   "source": [
    "coll.find_one({},{\"_id\":0,\"loc\":0})"
   ]
  },
  {
   "cell_type": "code",
   "execution_count": 18,
   "metadata": {},
   "outputs": [
    {
     "data": {
      "text/plain": [
       "{'loc': 'Noida'}"
      ]
     },
     "execution_count": 18,
     "metadata": {},
     "output_type": "execute_result"
    }
   ],
   "source": [
    "coll.find_one({},{\"_id\":0,\"loc\":1})"
   ]
  },
  {
   "cell_type": "code",
   "execution_count": 19,
   "metadata": {},
   "outputs": [
    {
     "ename": "OperationFailure",
     "evalue": "Cannot do inclusion on field loc in exclusion projection, full error: {'ok': 0.0, 'errmsg': 'Cannot do inclusion on field loc in exclusion projection', 'code': 31253, 'codeName': 'Location31253'}",
     "output_type": "error",
     "traceback": [
      "\u001b[1;31m---------------------------------------------------------------------------\u001b[0m",
      "\u001b[1;31mOperationFailure\u001b[0m                          Traceback (most recent call last)",
      "\u001b[1;32md:\\abhi python\\MongoDB\\MongoDB_hands_on\\Basics.ipynb Cell 33\u001b[0m line \u001b[0;36m1\n\u001b[1;32m----> <a href='vscode-notebook-cell:/d%3A/abhi%20python/MongoDB/MongoDB_hands_on/Basics.ipynb#X45sZmlsZQ%3D%3D?line=0'>1</a>\u001b[0m coll\u001b[39m.\u001b[39;49mfind_one({},{\u001b[39m\"\u001b[39;49m\u001b[39m_id\u001b[39;49m\u001b[39m\"\u001b[39;49m:\u001b[39m0\u001b[39;49m,\u001b[39m\"\u001b[39;49m\u001b[39mrollno\u001b[39;49m\u001b[39m\"\u001b[39;49m:\u001b[39m0\u001b[39;49m,\u001b[39m\"\u001b[39;49m\u001b[39mloc\u001b[39;49m\u001b[39m\"\u001b[39;49m:\u001b[39m1\u001b[39;49m})\n",
      "File \u001b[1;32mc:\\Users\\abhis\\AppData\\Local\\Programs\\Python\\Python311\\Lib\\site-packages\\pymongo\\collection.py:1506\u001b[0m, in \u001b[0;36mCollection.find_one\u001b[1;34m(self, filter, *args, **kwargs)\u001b[0m\n\u001b[0;32m   1504\u001b[0m     \u001b[39mfilter\u001b[39m \u001b[39m=\u001b[39m {\u001b[39m\"\u001b[39m\u001b[39m_id\u001b[39m\u001b[39m\"\u001b[39m: \u001b[39mfilter\u001b[39m}\n\u001b[0;32m   1505\u001b[0m cursor \u001b[39m=\u001b[39m \u001b[39mself\u001b[39m\u001b[39m.\u001b[39mfind(\u001b[39mfilter\u001b[39m, \u001b[39m*\u001b[39margs, \u001b[39m*\u001b[39m\u001b[39m*\u001b[39mkwargs)\n\u001b[1;32m-> 1506\u001b[0m \u001b[39mfor\u001b[39;00m result \u001b[39min\u001b[39;00m cursor\u001b[39m.\u001b[39mlimit(\u001b[39m-\u001b[39m\u001b[39m1\u001b[39m):\n\u001b[0;32m   1507\u001b[0m     \u001b[39mreturn\u001b[39;00m result\n\u001b[0;32m   1508\u001b[0m \u001b[39mreturn\u001b[39;00m \u001b[39mNone\u001b[39;00m\n",
      "File \u001b[1;32mc:\\Users\\abhis\\AppData\\Local\\Programs\\Python\\Python311\\Lib\\site-packages\\pymongo\\cursor.py:1264\u001b[0m, in \u001b[0;36mCursor.next\u001b[1;34m(self)\u001b[0m\n\u001b[0;32m   1262\u001b[0m \u001b[39mif\u001b[39;00m \u001b[39mself\u001b[39m\u001b[39m.\u001b[39m__empty:\n\u001b[0;32m   1263\u001b[0m     \u001b[39mraise\u001b[39;00m \u001b[39mStopIteration\u001b[39;00m\n\u001b[1;32m-> 1264\u001b[0m \u001b[39mif\u001b[39;00m \u001b[39mlen\u001b[39m(\u001b[39mself\u001b[39m\u001b[39m.\u001b[39m__data) \u001b[39mor\u001b[39;00m \u001b[39mself\u001b[39;49m\u001b[39m.\u001b[39;49m_refresh():\n\u001b[0;32m   1265\u001b[0m     \u001b[39mreturn\u001b[39;00m \u001b[39mself\u001b[39m\u001b[39m.\u001b[39m__data\u001b[39m.\u001b[39mpopleft()\n\u001b[0;32m   1266\u001b[0m \u001b[39melse\u001b[39;00m:\n",
      "File \u001b[1;32mc:\\Users\\abhis\\AppData\\Local\\Programs\\Python\\Python311\\Lib\\site-packages\\pymongo\\cursor.py:1181\u001b[0m, in \u001b[0;36mCursor._refresh\u001b[1;34m(self)\u001b[0m\n\u001b[0;32m   1159\u001b[0m         \u001b[39mraise\u001b[39;00m InvalidOperation(\n\u001b[0;32m   1160\u001b[0m             \u001b[39m\"\u001b[39m\u001b[39mPassing a \u001b[39m\u001b[39m'\u001b[39m\u001b[39mhint\u001b[39m\u001b[39m'\u001b[39m\u001b[39m is required when using the min/max query\u001b[39m\u001b[39m\"\u001b[39m\n\u001b[0;32m   1161\u001b[0m             \u001b[39m\"\u001b[39m\u001b[39m option to ensure the query utilizes the correct index\u001b[39m\u001b[39m\"\u001b[39m\n\u001b[0;32m   1162\u001b[0m         )\n\u001b[0;32m   1163\u001b[0m     q \u001b[39m=\u001b[39m \u001b[39mself\u001b[39m\u001b[39m.\u001b[39m_query_class(\n\u001b[0;32m   1164\u001b[0m         \u001b[39mself\u001b[39m\u001b[39m.\u001b[39m__query_flags,\n\u001b[0;32m   1165\u001b[0m         \u001b[39mself\u001b[39m\u001b[39m.\u001b[39m__collection\u001b[39m.\u001b[39mdatabase\u001b[39m.\u001b[39mname,\n\u001b[1;32m   (...)\u001b[0m\n\u001b[0;32m   1179\u001b[0m         \u001b[39mself\u001b[39m\u001b[39m.\u001b[39m__exhaust,\n\u001b[0;32m   1180\u001b[0m     )\n\u001b[1;32m-> 1181\u001b[0m     \u001b[39mself\u001b[39;49m\u001b[39m.\u001b[39;49m__send_message(q)\n\u001b[0;32m   1182\u001b[0m \u001b[39melif\u001b[39;00m \u001b[39mself\u001b[39m\u001b[39m.\u001b[39m__id:  \u001b[39m# Get More\u001b[39;00m\n\u001b[0;32m   1183\u001b[0m     \u001b[39mif\u001b[39;00m \u001b[39mself\u001b[39m\u001b[39m.\u001b[39m__limit:\n",
      "File \u001b[1;32mc:\\Users\\abhis\\AppData\\Local\\Programs\\Python\\Python311\\Lib\\site-packages\\pymongo\\cursor.py:1060\u001b[0m, in \u001b[0;36mCursor.__send_message\u001b[1;34m(self, operation)\u001b[0m\n\u001b[0;32m   1057\u001b[0m     \u001b[39mraise\u001b[39;00m InvalidOperation(\u001b[39m\"\u001b[39m\u001b[39mexhaust cursors do not support auto encryption\u001b[39m\u001b[39m\"\u001b[39m)\n\u001b[0;32m   1059\u001b[0m \u001b[39mtry\u001b[39;00m:\n\u001b[1;32m-> 1060\u001b[0m     response \u001b[39m=\u001b[39m client\u001b[39m.\u001b[39;49m_run_operation(\n\u001b[0;32m   1061\u001b[0m         operation, \u001b[39mself\u001b[39;49m\u001b[39m.\u001b[39;49m_unpack_response, address\u001b[39m=\u001b[39;49m\u001b[39mself\u001b[39;49m\u001b[39m.\u001b[39;49m__address\n\u001b[0;32m   1062\u001b[0m     )\n\u001b[0;32m   1063\u001b[0m \u001b[39mexcept\u001b[39;00m OperationFailure \u001b[39mas\u001b[39;00m exc:\n\u001b[0;32m   1064\u001b[0m     \u001b[39mif\u001b[39;00m exc\u001b[39m.\u001b[39mcode \u001b[39min\u001b[39;00m _CURSOR_CLOSED_ERRORS \u001b[39mor\u001b[39;00m \u001b[39mself\u001b[39m\u001b[39m.\u001b[39m__exhaust:\n\u001b[0;32m   1065\u001b[0m         \u001b[39m# Don't send killCursors because the cursor is already closed.\u001b[39;00m\n",
      "File \u001b[1;32mc:\\Users\\abhis\\AppData\\Local\\Programs\\Python\\Python311\\Lib\\site-packages\\pymongo\\_csot.py:107\u001b[0m, in \u001b[0;36mapply.<locals>.csot_wrapper\u001b[1;34m(self, *args, **kwargs)\u001b[0m\n\u001b[0;32m    105\u001b[0m         \u001b[39mwith\u001b[39;00m _TimeoutContext(timeout):\n\u001b[0;32m    106\u001b[0m             \u001b[39mreturn\u001b[39;00m func(\u001b[39mself\u001b[39m, \u001b[39m*\u001b[39margs, \u001b[39m*\u001b[39m\u001b[39m*\u001b[39mkwargs)\n\u001b[1;32m--> 107\u001b[0m \u001b[39mreturn\u001b[39;00m func(\u001b[39mself\u001b[39;49m, \u001b[39m*\u001b[39;49margs, \u001b[39m*\u001b[39;49m\u001b[39m*\u001b[39;49mkwargs)\n",
      "File \u001b[1;32mc:\\Users\\abhis\\AppData\\Local\\Programs\\Python\\Python311\\Lib\\site-packages\\pymongo\\mongo_client.py:1394\u001b[0m, in \u001b[0;36mMongoClient._run_operation\u001b[1;34m(self, operation, unpack_res, address)\u001b[0m\n\u001b[0;32m   1389\u001b[0m     operation\u001b[39m.\u001b[39mreset()  \u001b[39m# Reset op in case of retry.\u001b[39;00m\n\u001b[0;32m   1390\u001b[0m     \u001b[39mreturn\u001b[39;00m server\u001b[39m.\u001b[39mrun_operation(\n\u001b[0;32m   1391\u001b[0m         conn, operation, read_preference, \u001b[39mself\u001b[39m\u001b[39m.\u001b[39m_event_listeners, unpack_res\n\u001b[0;32m   1392\u001b[0m     )\n\u001b[1;32m-> 1394\u001b[0m \u001b[39mreturn\u001b[39;00m \u001b[39mself\u001b[39;49m\u001b[39m.\u001b[39;49m_retryable_read(\n\u001b[0;32m   1395\u001b[0m     _cmd,\n\u001b[0;32m   1396\u001b[0m     operation\u001b[39m.\u001b[39;49mread_preference,\n\u001b[0;32m   1397\u001b[0m     operation\u001b[39m.\u001b[39;49msession,\n\u001b[0;32m   1398\u001b[0m     address\u001b[39m=\u001b[39;49maddress,\n\u001b[0;32m   1399\u001b[0m     retryable\u001b[39m=\u001b[39;49m\u001b[39misinstance\u001b[39;49m(operation, message\u001b[39m.\u001b[39;49m_Query),\n\u001b[0;32m   1400\u001b[0m )\n",
      "File \u001b[1;32mc:\\Users\\abhis\\AppData\\Local\\Programs\\Python\\Python311\\Lib\\site-packages\\pymongo\\mongo_client.py:1492\u001b[0m, in \u001b[0;36mMongoClient._retryable_read\u001b[1;34m(self, func, read_pref, session, address, retryable)\u001b[0m\n\u001b[0;32m   1487\u001b[0m \u001b[39m# Ensure that the client supports retrying on reads and there is no session in\u001b[39;00m\n\u001b[0;32m   1488\u001b[0m \u001b[39m# transaction, otherwise, we will not support retry behavior for this call.\u001b[39;00m\n\u001b[0;32m   1489\u001b[0m retryable \u001b[39m=\u001b[39m \u001b[39mbool\u001b[39m(\n\u001b[0;32m   1490\u001b[0m     retryable \u001b[39mand\u001b[39;00m \u001b[39mself\u001b[39m\u001b[39m.\u001b[39moptions\u001b[39m.\u001b[39mretry_reads \u001b[39mand\u001b[39;00m \u001b[39mnot\u001b[39;00m (session \u001b[39mand\u001b[39;00m session\u001b[39m.\u001b[39min_transaction)\n\u001b[0;32m   1491\u001b[0m )\n\u001b[1;32m-> 1492\u001b[0m \u001b[39mreturn\u001b[39;00m \u001b[39mself\u001b[39;49m\u001b[39m.\u001b[39;49m_retry_internal(\n\u001b[0;32m   1493\u001b[0m     func,\n\u001b[0;32m   1494\u001b[0m     session,\n\u001b[0;32m   1495\u001b[0m     \u001b[39mNone\u001b[39;49;00m,\n\u001b[0;32m   1496\u001b[0m     is_read\u001b[39m=\u001b[39;49m\u001b[39mTrue\u001b[39;49;00m,\n\u001b[0;32m   1497\u001b[0m     address\u001b[39m=\u001b[39;49maddress,\n\u001b[0;32m   1498\u001b[0m     read_pref\u001b[39m=\u001b[39;49mread_pref,\n\u001b[0;32m   1499\u001b[0m     retryable\u001b[39m=\u001b[39;49mretryable,\n\u001b[0;32m   1500\u001b[0m )\n",
      "File \u001b[1;32mc:\\Users\\abhis\\AppData\\Local\\Programs\\Python\\Python311\\Lib\\site-packages\\pymongo\\_csot.py:107\u001b[0m, in \u001b[0;36mapply.<locals>.csot_wrapper\u001b[1;34m(self, *args, **kwargs)\u001b[0m\n\u001b[0;32m    105\u001b[0m         \u001b[39mwith\u001b[39;00m _TimeoutContext(timeout):\n\u001b[0;32m    106\u001b[0m             \u001b[39mreturn\u001b[39;00m func(\u001b[39mself\u001b[39m, \u001b[39m*\u001b[39margs, \u001b[39m*\u001b[39m\u001b[39m*\u001b[39mkwargs)\n\u001b[1;32m--> 107\u001b[0m \u001b[39mreturn\u001b[39;00m func(\u001b[39mself\u001b[39;49m, \u001b[39m*\u001b[39;49margs, \u001b[39m*\u001b[39;49m\u001b[39m*\u001b[39;49mkwargs)\n",
      "File \u001b[1;32mc:\\Users\\abhis\\AppData\\Local\\Programs\\Python\\Python311\\Lib\\site-packages\\pymongo\\mongo_client.py:1462\u001b[0m, in \u001b[0;36mMongoClient._retry_internal\u001b[1;34m(self, func, session, bulk, is_read, address, read_pref, retryable)\u001b[0m\n\u001b[0;32m   1428\u001b[0m \u001b[39m@_csot\u001b[39m\u001b[39m.\u001b[39mapply\n\u001b[0;32m   1429\u001b[0m \u001b[39mdef\u001b[39;00m \u001b[39m_retry_internal\u001b[39m(\n\u001b[0;32m   1430\u001b[0m     \u001b[39mself\u001b[39m,\n\u001b[1;32m   (...)\u001b[0m\n\u001b[0;32m   1437\u001b[0m     retryable: \u001b[39mbool\u001b[39m \u001b[39m=\u001b[39m \u001b[39mFalse\u001b[39;00m,\n\u001b[0;32m   1438\u001b[0m ) \u001b[39m-\u001b[39m\u001b[39m>\u001b[39m T:\n\u001b[0;32m   1439\u001b[0m \u001b[39m    \u001b[39m\u001b[39m\"\"\"Internal retryable helper for all client transactions.\u001b[39;00m\n\u001b[0;32m   1440\u001b[0m \n\u001b[0;32m   1441\u001b[0m \u001b[39m    :Parameters:\u001b[39;00m\n\u001b[1;32m   (...)\u001b[0m\n\u001b[0;32m   1451\u001b[0m \u001b[39m      Output of the calling func()\u001b[39;00m\n\u001b[0;32m   1452\u001b[0m \u001b[39m    \"\"\"\u001b[39;00m\n\u001b[0;32m   1453\u001b[0m     \u001b[39mreturn\u001b[39;00m _ClientConnectionRetryable(\n\u001b[0;32m   1454\u001b[0m         mongo_client\u001b[39m=\u001b[39;49m\u001b[39mself\u001b[39;49m,\n\u001b[0;32m   1455\u001b[0m         func\u001b[39m=\u001b[39;49mfunc,\n\u001b[0;32m   1456\u001b[0m         bulk\u001b[39m=\u001b[39;49mbulk,\n\u001b[0;32m   1457\u001b[0m         is_read\u001b[39m=\u001b[39;49mis_read,\n\u001b[0;32m   1458\u001b[0m         session\u001b[39m=\u001b[39;49msession,\n\u001b[0;32m   1459\u001b[0m         read_pref\u001b[39m=\u001b[39;49mread_pref,\n\u001b[0;32m   1460\u001b[0m         address\u001b[39m=\u001b[39;49maddress,\n\u001b[0;32m   1461\u001b[0m         retryable\u001b[39m=\u001b[39;49mretryable,\n\u001b[1;32m-> 1462\u001b[0m     )\u001b[39m.\u001b[39;49mrun()\n",
      "File \u001b[1;32mc:\\Users\\abhis\\AppData\\Local\\Programs\\Python\\Python311\\Lib\\site-packages\\pymongo\\mongo_client.py:2315\u001b[0m, in \u001b[0;36m_ClientConnectionRetryable.run\u001b[1;34m(self)\u001b[0m\n\u001b[0;32m   2313\u001b[0m \u001b[39mself\u001b[39m\u001b[39m.\u001b[39m_check_last_error(check_csot\u001b[39m=\u001b[39m\u001b[39mTrue\u001b[39;00m)\n\u001b[0;32m   2314\u001b[0m \u001b[39mtry\u001b[39;00m:\n\u001b[1;32m-> 2315\u001b[0m     \u001b[39mreturn\u001b[39;00m \u001b[39mself\u001b[39;49m\u001b[39m.\u001b[39;49m_read() \u001b[39mif\u001b[39;00m \u001b[39mself\u001b[39m\u001b[39m.\u001b[39m_is_read \u001b[39melse\u001b[39;00m \u001b[39mself\u001b[39m\u001b[39m.\u001b[39m_write()\n\u001b[0;32m   2316\u001b[0m \u001b[39mexcept\u001b[39;00m ServerSelectionTimeoutError:\n\u001b[0;32m   2317\u001b[0m     \u001b[39m# The application may think the write was never attempted\u001b[39;00m\n\u001b[0;32m   2318\u001b[0m     \u001b[39m# if we raise ServerSelectionTimeoutError on the retry\u001b[39;00m\n\u001b[0;32m   2319\u001b[0m     \u001b[39m# attempt. Raise the original exception instead.\u001b[39;00m\n\u001b[0;32m   2320\u001b[0m     \u001b[39mself\u001b[39m\u001b[39m.\u001b[39m_check_last_error()\n",
      "File \u001b[1;32mc:\\Users\\abhis\\AppData\\Local\\Programs\\Python\\Python311\\Lib\\site-packages\\pymongo\\mongo_client.py:2444\u001b[0m, in \u001b[0;36m_ClientConnectionRetryable._read\u001b[1;34m(self)\u001b[0m\n\u001b[0;32m   2442\u001b[0m \u001b[39mif\u001b[39;00m \u001b[39mself\u001b[39m\u001b[39m.\u001b[39m_retrying \u001b[39mand\u001b[39;00m \u001b[39mnot\u001b[39;00m \u001b[39mself\u001b[39m\u001b[39m.\u001b[39m_retryable:\n\u001b[0;32m   2443\u001b[0m     \u001b[39mself\u001b[39m\u001b[39m.\u001b[39m_check_last_error()\n\u001b[1;32m-> 2444\u001b[0m \u001b[39mreturn\u001b[39;00m \u001b[39mself\u001b[39;49m\u001b[39m.\u001b[39;49m_func(\u001b[39mself\u001b[39;49m\u001b[39m.\u001b[39;49m_session, \u001b[39mself\u001b[39;49m\u001b[39m.\u001b[39;49m_server, conn, read_pref)\n",
      "File \u001b[1;32mc:\\Users\\abhis\\AppData\\Local\\Programs\\Python\\Python311\\Lib\\site-packages\\pymongo\\mongo_client.py:1390\u001b[0m, in \u001b[0;36mMongoClient._run_operation.<locals>._cmd\u001b[1;34m(_session, server, conn, read_preference)\u001b[0m\n\u001b[0;32m   1383\u001b[0m \u001b[39mdef\u001b[39;00m \u001b[39m_cmd\u001b[39m(\n\u001b[0;32m   1384\u001b[0m     _session: Optional[ClientSession],\n\u001b[0;32m   1385\u001b[0m     server: Server,\n\u001b[0;32m   1386\u001b[0m     conn: Connection,\n\u001b[0;32m   1387\u001b[0m     read_preference: _ServerMode,\n\u001b[0;32m   1388\u001b[0m ) \u001b[39m-\u001b[39m\u001b[39m>\u001b[39m Response:\n\u001b[0;32m   1389\u001b[0m     operation\u001b[39m.\u001b[39mreset()  \u001b[39m# Reset op in case of retry.\u001b[39;00m\n\u001b[1;32m-> 1390\u001b[0m     \u001b[39mreturn\u001b[39;00m server\u001b[39m.\u001b[39;49mrun_operation(\n\u001b[0;32m   1391\u001b[0m         conn, operation, read_preference, \u001b[39mself\u001b[39;49m\u001b[39m.\u001b[39;49m_event_listeners, unpack_res\n\u001b[0;32m   1392\u001b[0m     )\n",
      "File \u001b[1;32mc:\\Users\\abhis\\AppData\\Local\\Programs\\Python\\Python311\\Lib\\site-packages\\pymongo\\helpers.py:322\u001b[0m, in \u001b[0;36m_handle_reauth.<locals>.inner\u001b[1;34m(*args, **kwargs)\u001b[0m\n\u001b[0;32m    319\u001b[0m \u001b[39mfrom\u001b[39;00m \u001b[39mpymongo\u001b[39;00m\u001b[39m.\u001b[39;00m\u001b[39mpool\u001b[39;00m \u001b[39mimport\u001b[39;00m Connection\n\u001b[0;32m    321\u001b[0m \u001b[39mtry\u001b[39;00m:\n\u001b[1;32m--> 322\u001b[0m     \u001b[39mreturn\u001b[39;00m func(\u001b[39m*\u001b[39;49margs, \u001b[39m*\u001b[39;49m\u001b[39m*\u001b[39;49mkwargs)\n\u001b[0;32m    323\u001b[0m \u001b[39mexcept\u001b[39;00m OperationFailure \u001b[39mas\u001b[39;00m exc:\n\u001b[0;32m    324\u001b[0m     \u001b[39mif\u001b[39;00m no_reauth:\n",
      "File \u001b[1;32mc:\\Users\\abhis\\AppData\\Local\\Programs\\Python\\Python311\\Lib\\site-packages\\pymongo\\server.py:167\u001b[0m, in \u001b[0;36mServer.run_operation\u001b[1;34m(self, conn, operation, read_preference, listeners, unpack_res)\u001b[0m\n\u001b[0;32m    165\u001b[0m         first \u001b[39m=\u001b[39m docs[\u001b[39m0\u001b[39m]\n\u001b[0;32m    166\u001b[0m         operation\u001b[39m.\u001b[39mclient\u001b[39m.\u001b[39m_process_response(first, operation\u001b[39m.\u001b[39msession)\n\u001b[1;32m--> 167\u001b[0m         _check_command_response(first, conn\u001b[39m.\u001b[39;49mmax_wire_version)\n\u001b[0;32m    168\u001b[0m \u001b[39mexcept\u001b[39;00m \u001b[39mException\u001b[39;00m \u001b[39mas\u001b[39;00m exc:\n\u001b[0;32m    169\u001b[0m     \u001b[39mif\u001b[39;00m publish:\n",
      "File \u001b[1;32mc:\\Users\\abhis\\AppData\\Local\\Programs\\Python\\Python311\\Lib\\site-packages\\pymongo\\helpers.py:230\u001b[0m, in \u001b[0;36m_check_command_response\u001b[1;34m(response, max_wire_version, allowable_errors, parse_write_concern_error)\u001b[0m\n\u001b[0;32m    227\u001b[0m \u001b[39melif\u001b[39;00m code \u001b[39m==\u001b[39m \u001b[39m43\u001b[39m:\n\u001b[0;32m    228\u001b[0m     \u001b[39mraise\u001b[39;00m CursorNotFound(errmsg, code, response, max_wire_version)\n\u001b[1;32m--> 230\u001b[0m \u001b[39mraise\u001b[39;00m OperationFailure(errmsg, code, response, max_wire_version)\n",
      "\u001b[1;31mOperationFailure\u001b[0m: Cannot do inclusion on field loc in exclusion projection, full error: {'ok': 0.0, 'errmsg': 'Cannot do inclusion on field loc in exclusion projection', 'code': 31253, 'codeName': 'Location31253'}"
     ]
    }
   ],
   "source": [
    "coll.find_one({},{\"_id\":0,\"rollno\":0,\"loc\":1})"
   ]
  },
  {
   "cell_type": "markdown",
   "metadata": {},
   "source": [
    "20 keys : read 4 keys : specify 1 for these 4 keys,\n",
    "\n",
    "20 keys : skip 4 keys : specify 0 for these 4 keys"
   ]
  },
  {
   "cell_type": "code",
   "execution_count": 20,
   "metadata": {},
   "outputs": [
    {
     "data": {
      "text/plain": [
       "{'_id': ObjectId('65511c88221ffc78622e56c3'),\n",
       " 'rollno': 102,\n",
       " 'stud_name': 'Roma',\n",
       " 'gender': 'f',\n",
       " 'loc': 'Mumbai'}"
      ]
     },
     "execution_count": 20,
     "metadata": {},
     "output_type": "execute_result"
    }
   ],
   "source": [
    "coll.find_one({\"gender\":\"f\"})"
   ]
  },
  {
   "cell_type": "code",
   "execution_count": 21,
   "metadata": {},
   "outputs": [
    {
     "data": {
      "text/plain": [
       "{'_id': ObjectId('65511e6f221ffc78622e56c8'),\n",
       " 'rollno': 107,\n",
       " 'stud_name': 'pooja',\n",
       " 'loc': 'mumbai'}"
      ]
     },
     "execution_count": 21,
     "metadata": {},
     "output_type": "execute_result"
    }
   ],
   "source": [
    "coll.find_one({\"loc\":\"mumbai\"})"
   ]
  },
  {
   "cell_type": "code",
   "execution_count": 22,
   "metadata": {},
   "outputs": [
    {
     "data": {
      "text/plain": [
       "{'_id': ObjectId('65511c88221ffc78622e56c3'),\n",
       " 'rollno': 102,\n",
       " 'stud_name': 'Roma',\n",
       " 'gender': 'f',\n",
       " 'loc': 'Mumbai'}"
      ]
     },
     "execution_count": 22,
     "metadata": {},
     "output_type": "execute_result"
    }
   ],
   "source": [
    "coll.find_one({\"loc\":\"Mumbai\"})"
   ]
  },
  {
   "cell_type": "markdown",
   "metadata": {},
   "source": [
    "$gt : Greater than,\n",
    "\n",
    "$gte : Greater than equal to,\n",
    "\n",
    "$ne : Not equal to,\n",
    "\n",
    "$lt : Less than,\n",
    "\n",
    "$lte : Less than equal to,\n",
    "\n",
    "$in : specify multiple possible values"
   ]
  },
  {
   "cell_type": "code",
   "execution_count": 23,
   "metadata": {},
   "outputs": [
    {
     "data": {
      "text/plain": [
       "{'_id': ObjectId('65511d15221ffc78622e56c5'),\n",
       " 'rollno': 104,\n",
       " 'stud_name': 'Dhiraj',\n",
       " 'gender': 'm',\n",
       " 'contact': 1234}"
      ]
     },
     "execution_count": 23,
     "metadata": {},
     "output_type": "execute_result"
    }
   ],
   "source": [
    "coll.find_one({\"rollno\":{\"$gt\":103}})"
   ]
  },
  {
   "cell_type": "code",
   "execution_count": 24,
   "metadata": {},
   "outputs": [
    {
     "data": {
      "text/plain": [
       "{'_id': ObjectId('65511cbd221ffc78622e56c4'),\n",
       " 'rollno': 103,\n",
       " 'stud_name': 'Nita',\n",
       " 'gender': 'f'}"
      ]
     },
     "execution_count": 24,
     "metadata": {},
     "output_type": "execute_result"
    }
   ],
   "source": [
    "coll.find_one({\"rollno\":{\"$gte\":103}})"
   ]
  },
  {
   "cell_type": "code",
   "execution_count": 25,
   "metadata": {},
   "outputs": [
    {
     "data": {
      "text/plain": [
       "{'_id': ObjectId('65511c0d221ffc78622e56c2'),\n",
       " 'rollno': 101,\n",
       " 'stud_name': 'Abhishek',\n",
       " 'gender': 'm',\n",
       " 'loc': 'Noida'}"
      ]
     },
     "execution_count": 25,
     "metadata": {},
     "output_type": "execute_result"
    }
   ],
   "source": [
    "coll.find_one({\"rollno\":{\"$lt\":102}})"
   ]
  },
  {
   "cell_type": "markdown",
   "metadata": {},
   "source": [
    "Combine multiple filter conditions (AND & OR)"
   ]
  },
  {
   "cell_type": "code",
   "execution_count": 27,
   "metadata": {},
   "outputs": [
    {
     "data": {
      "text/plain": [
       "{'_id': ObjectId('65511cbd221ffc78622e56c4'),\n",
       " 'rollno': 103,\n",
       " 'stud_name': 'Nita',\n",
       " 'gender': 'f'}"
      ]
     },
     "execution_count": 27,
     "metadata": {},
     "output_type": "execute_result"
    }
   ],
   "source": [
    "coll.find_one({\"rollno\":103,\"stud_name\":\"Nita\"})"
   ]
  },
  {
   "cell_type": "code",
   "execution_count": 28,
   "metadata": {},
   "outputs": [],
   "source": [
    "coll.find_one({\"rollno\":103,\"stud_name\":\"nita\"})"
   ]
  },
  {
   "cell_type": "code",
   "execution_count": 29,
   "metadata": {},
   "outputs": [
    {
     "data": {
      "text/plain": [
       "{'_id': ObjectId('65511cbd221ffc78622e56c4'),\n",
       " 'rollno': 103,\n",
       " 'stud_name': 'Nita',\n",
       " 'gender': 'f'}"
      ]
     },
     "execution_count": 29,
     "metadata": {},
     "output_type": "execute_result"
    }
   ],
   "source": [
    "coll.find_one({\"$or\":[{\"rollno\":103},{\"stud_name\":\"nita\"}]})"
   ]
  },
  {
   "cell_type": "code",
   "execution_count": 30,
   "metadata": {},
   "outputs": [
    {
     "data": {
      "text/plain": [
       "{'_id': ObjectId('65511c88221ffc78622e56c3'),\n",
       " 'rollno': 102,\n",
       " 'stud_name': 'Roma',\n",
       " 'gender': 'f',\n",
       " 'loc': 'Mumbai'}"
      ]
     },
     "execution_count": 30,
     "metadata": {},
     "output_type": "execute_result"
    }
   ],
   "source": [
    "coll.find_one({\"$or\":[{\"rollno\":103},{\"stud_name\":\"Roma\",\"gender\":\"f\"}]})"
   ]
  },
  {
   "cell_type": "markdown",
   "metadata": {},
   "source": [
    "find() : returns multiple documents\n",
    "\n",
    "find() : collection_name.find({filter condition},{select}),\n",
    "\n",
    "without filter condition : returns all documents of the collection,\n",
    "\n",
    "with filter condition : returns all matched documents of the collection"
   ]
  },
  {
   "cell_type": "code",
   "execution_count": 31,
   "metadata": {},
   "outputs": [
    {
     "data": {
      "text/plain": [
       "[{'_id': ObjectId('65511c0d221ffc78622e56c2'),\n",
       "  'rollno': 101,\n",
       "  'stud_name': 'Abhishek',\n",
       "  'gender': 'm',\n",
       "  'loc': 'Noida'},\n",
       " {'_id': ObjectId('65511c88221ffc78622e56c3'),\n",
       "  'rollno': 102,\n",
       "  'stud_name': 'Roma',\n",
       "  'gender': 'f',\n",
       "  'loc': 'Mumbai'},\n",
       " {'_id': ObjectId('65511cbd221ffc78622e56c4'),\n",
       "  'rollno': 103,\n",
       "  'stud_name': 'Nita',\n",
       "  'gender': 'f'},\n",
       " {'_id': ObjectId('65511d15221ffc78622e56c5'),\n",
       "  'rollno': 104,\n",
       "  'stud_name': 'Dhiraj',\n",
       "  'gender': 'm',\n",
       "  'contact': 1234},\n",
       " {'_id': ObjectId('65511da8221ffc78622e56c6'),\n",
       "  'rollno': 105,\n",
       "  'stud_name': 'Akash',\n",
       "  'gender': 'm',\n",
       "  'contact': {'email': 'akash@gmail.com', 'mobno': 4321}},\n",
       " {'_id': ObjectId('65511e6f221ffc78622e56c7'),\n",
       "  'rollno': 105,\n",
       "  'stud_name': 'veena'},\n",
       " {'_id': ObjectId('65511e6f221ffc78622e56c8'),\n",
       "  'rollno': 107,\n",
       "  'stud_name': 'pooja',\n",
       "  'loc': 'mumbai'}]"
      ]
     },
     "execution_count": 31,
     "metadata": {},
     "output_type": "execute_result"
    }
   ],
   "source": [
    "data = coll.find({})\n",
    "list(data)"
   ]
  },
  {
   "cell_type": "code",
   "execution_count": 32,
   "metadata": {},
   "outputs": [
    {
     "data": {
      "text/plain": [
       "[{'rollno': 101, 'stud_name': 'Abhishek', 'gender': 'm', 'loc': 'Noida'},\n",
       " {'rollno': 102, 'stud_name': 'Roma', 'gender': 'f', 'loc': 'Mumbai'},\n",
       " {'rollno': 103, 'stud_name': 'Nita', 'gender': 'f'},\n",
       " {'rollno': 104, 'stud_name': 'Dhiraj', 'gender': 'm', 'contact': 1234},\n",
       " {'rollno': 105,\n",
       "  'stud_name': 'Akash',\n",
       "  'gender': 'm',\n",
       "  'contact': {'email': 'akash@gmail.com', 'mobno': 4321}},\n",
       " {'rollno': 105, 'stud_name': 'veena'},\n",
       " {'rollno': 107, 'stud_name': 'pooja', 'loc': 'mumbai'}]"
      ]
     },
     "execution_count": 32,
     "metadata": {},
     "output_type": "execute_result"
    }
   ],
   "source": [
    "data = coll.find({},{\"_id\":0})\n",
    "list(data)"
   ]
  },
  {
   "cell_type": "code",
   "execution_count": 33,
   "metadata": {},
   "outputs": [
    {
     "data": {
      "text/plain": [
       "[{'rollno': 101},\n",
       " {'rollno': 102},\n",
       " {'rollno': 103},\n",
       " {'rollno': 104},\n",
       " {'rollno': 105},\n",
       " {'rollno': 105},\n",
       " {'rollno': 107}]"
      ]
     },
     "execution_count": 33,
     "metadata": {},
     "output_type": "execute_result"
    }
   ],
   "source": [
    "data = coll.find({},{\"rollno\":1,\"_id\":0})\n",
    "list(data)"
   ]
  },
  {
   "cell_type": "code",
   "execution_count": 34,
   "metadata": {},
   "outputs": [
    {
     "data": {
      "text/plain": [
       "[{'rollno': 101, 'stud_name': 'Abhishek', 'gender': 'm'},\n",
       " {'rollno': 102, 'stud_name': 'Roma', 'gender': 'f'},\n",
       " {'rollno': 103, 'stud_name': 'Nita', 'gender': 'f'},\n",
       " {'rollno': 104, 'stud_name': 'Dhiraj', 'gender': 'm', 'contact': 1234},\n",
       " {'rollno': 105,\n",
       "  'stud_name': 'Akash',\n",
       "  'gender': 'm',\n",
       "  'contact': {'email': 'akash@gmail.com', 'mobno': 4321}},\n",
       " {'rollno': 105, 'stud_name': 'veena'},\n",
       " {'rollno': 107, 'stud_name': 'pooja'}]"
      ]
     },
     "execution_count": 34,
     "metadata": {},
     "output_type": "execute_result"
    }
   ],
   "source": [
    "data = coll.find({},{\"_id\":0,\"loc\":0})\n",
    "list(data)"
   ]
  },
  {
   "cell_type": "code",
   "execution_count": 37,
   "metadata": {},
   "outputs": [
    {
     "data": {
      "text/plain": [
       "[{'_id': ObjectId('65511c88221ffc78622e56c3'),\n",
       "  'rollno': 102,\n",
       "  'stud_name': 'Roma',\n",
       "  'gender': 'f',\n",
       "  'loc': 'Mumbai'},\n",
       " {'_id': ObjectId('65511cbd221ffc78622e56c4'),\n",
       "  'rollno': 103,\n",
       "  'stud_name': 'Nita',\n",
       "  'gender': 'f'}]"
      ]
     },
     "execution_count": 37,
     "metadata": {},
     "output_type": "execute_result"
    }
   ],
   "source": [
    "data=coll.find({\"gender\":\"f\"})\n",
    "list(data)"
   ]
  },
  {
   "cell_type": "code",
   "execution_count": 38,
   "metadata": {},
   "outputs": [
    {
     "data": {
      "text/html": [
       "<div>\n",
       "<style scoped>\n",
       "    .dataframe tbody tr th:only-of-type {\n",
       "        vertical-align: middle;\n",
       "    }\n",
       "\n",
       "    .dataframe tbody tr th {\n",
       "        vertical-align: top;\n",
       "    }\n",
       "\n",
       "    .dataframe thead th {\n",
       "        text-align: right;\n",
       "    }\n",
       "</style>\n",
       "<table border=\"1\" class=\"dataframe\">\n",
       "  <thead>\n",
       "    <tr style=\"text-align: right;\">\n",
       "      <th></th>\n",
       "      <th>rollno</th>\n",
       "      <th>stud_name</th>\n",
       "      <th>gender</th>\n",
       "      <th>loc</th>\n",
       "      <th>contact</th>\n",
       "    </tr>\n",
       "  </thead>\n",
       "  <tbody>\n",
       "    <tr>\n",
       "      <th>0</th>\n",
       "      <td>101</td>\n",
       "      <td>Abhishek</td>\n",
       "      <td>m</td>\n",
       "      <td>Noida</td>\n",
       "      <td>NaN</td>\n",
       "    </tr>\n",
       "    <tr>\n",
       "      <th>1</th>\n",
       "      <td>102</td>\n",
       "      <td>Roma</td>\n",
       "      <td>f</td>\n",
       "      <td>Mumbai</td>\n",
       "      <td>NaN</td>\n",
       "    </tr>\n",
       "    <tr>\n",
       "      <th>2</th>\n",
       "      <td>103</td>\n",
       "      <td>Nita</td>\n",
       "      <td>f</td>\n",
       "      <td>NaN</td>\n",
       "      <td>NaN</td>\n",
       "    </tr>\n",
       "    <tr>\n",
       "      <th>3</th>\n",
       "      <td>104</td>\n",
       "      <td>Dhiraj</td>\n",
       "      <td>m</td>\n",
       "      <td>NaN</td>\n",
       "      <td>1234</td>\n",
       "    </tr>\n",
       "    <tr>\n",
       "      <th>4</th>\n",
       "      <td>105</td>\n",
       "      <td>Akash</td>\n",
       "      <td>m</td>\n",
       "      <td>NaN</td>\n",
       "      <td>{'email': 'akash@gmail.com', 'mobno': 4321}</td>\n",
       "    </tr>\n",
       "    <tr>\n",
       "      <th>5</th>\n",
       "      <td>105</td>\n",
       "      <td>veena</td>\n",
       "      <td>NaN</td>\n",
       "      <td>NaN</td>\n",
       "      <td>NaN</td>\n",
       "    </tr>\n",
       "    <tr>\n",
       "      <th>6</th>\n",
       "      <td>107</td>\n",
       "      <td>pooja</td>\n",
       "      <td>NaN</td>\n",
       "      <td>mumbai</td>\n",
       "      <td>NaN</td>\n",
       "    </tr>\n",
       "  </tbody>\n",
       "</table>\n",
       "</div>"
      ],
      "text/plain": [
       "   rollno stud_name gender     loc  \\\n",
       "0     101  Abhishek      m   Noida   \n",
       "1     102      Roma      f  Mumbai   \n",
       "2     103      Nita      f     NaN   \n",
       "3     104    Dhiraj      m     NaN   \n",
       "4     105     Akash      m     NaN   \n",
       "5     105     veena    NaN     NaN   \n",
       "6     107     pooja    NaN  mumbai   \n",
       "\n",
       "                                       contact  \n",
       "0                                          NaN  \n",
       "1                                          NaN  \n",
       "2                                          NaN  \n",
       "3                                         1234  \n",
       "4  {'email': 'akash@gmail.com', 'mobno': 4321}  \n",
       "5                                          NaN  \n",
       "6                                          NaN  "
      ]
     },
     "execution_count": 38,
     "metadata": {},
     "output_type": "execute_result"
    }
   ],
   "source": [
    "data = coll.find({},{\"_id\":0})\n",
    "data1=list(data)\n",
    "df=pd.DataFrame(data1)\n",
    "df"
   ]
  },
  {
   "cell_type": "code",
   "execution_count": 39,
   "metadata": {},
   "outputs": [
    {
     "data": {
      "text/plain": [
       "[{'_id': ObjectId('65511c88221ffc78622e56c3'),\n",
       "  'rollno': 102,\n",
       "  'stud_name': 'Roma',\n",
       "  'gender': 'f',\n",
       "  'loc': 'Mumbai'},\n",
       " {'_id': ObjectId('65511d15221ffc78622e56c5'),\n",
       "  'rollno': 104,\n",
       "  'stud_name': 'Dhiraj',\n",
       "  'gender': 'm',\n",
       "  'contact': 1234}]"
      ]
     },
     "execution_count": 39,
     "metadata": {},
     "output_type": "execute_result"
    }
   ],
   "source": [
    "data = coll.find({\"rollno\":{\"$in\":[102,104,106]}})\n",
    "list(data)"
   ]
  },
  {
   "cell_type": "markdown",
   "metadata": {},
   "source": [
    "update data : \n",
    "\n",
    "update_one() : update a single document,\n",
    "\n",
    "update_many() : updates multiple documents"
   ]
  },
  {
   "cell_type": "markdown",
   "metadata": {},
   "source": [
    "update_one() : collection_name.update_one({filter condition},{\"$set:{\"key\":new value}})\n",
    "\n",
    "without filter condition : updates the first document in the collection\n",
    "\n",
    "with filter condition : updates the matched document in the collection"
   ]
  },
  {
   "cell_type": "code",
   "execution_count": 40,
   "metadata": {},
   "outputs": [
    {
     "data": {
      "text/plain": [
       "UpdateResult({'n': 1, 'nModified': 1, 'ok': 1.0, 'updatedExisting': True}, acknowledged=True)"
      ]
     },
     "execution_count": 40,
     "metadata": {},
     "output_type": "execute_result"
    }
   ],
   "source": [
    "coll.update_one({\"stud_name\":\"veena\"},{\"$set\":{\"rollno\":106}})"
   ]
  },
  {
   "cell_type": "code",
   "execution_count": 41,
   "metadata": {},
   "outputs": [
    {
     "data": {
      "text/plain": [
       "UpdateResult({'n': 1, 'nModified': 1, 'ok': 1.0, 'updatedExisting': True}, acknowledged=True)"
      ]
     },
     "execution_count": 41,
     "metadata": {},
     "output_type": "execute_result"
    }
   ],
   "source": [
    "coll.update_one({},{\"$set\":{\"loc\":\"Goa\"}})"
   ]
  },
  {
   "cell_type": "code",
   "execution_count": 42,
   "metadata": {},
   "outputs": [
    {
     "data": {
      "text/plain": [
       "UpdateResult({'n': 1, 'nModified': 1, 'ok': 1.0, 'updatedExisting': True}, acknowledged=True)"
      ]
     },
     "execution_count": 42,
     "metadata": {},
     "output_type": "execute_result"
    }
   ],
   "source": [
    "coll.update_one({},{\"$set\":{\"contact\":7741}})"
   ]
  },
  {
   "cell_type": "code",
   "execution_count": 43,
   "metadata": {},
   "outputs": [
    {
     "data": {
      "text/plain": [
       "UpdateResult({'n': 1, 'nModified': 1, 'ok': 1.0, 'updatedExisting': True}, acknowledged=True)"
      ]
     },
     "execution_count": 43,
     "metadata": {},
     "output_type": "execute_result"
    }
   ],
   "source": [
    "coll.update_one({\"rollno\":106},{\"$set\":{\"loc\":\"pune\"}})"
   ]
  },
  {
   "cell_type": "code",
   "execution_count": 44,
   "metadata": {},
   "outputs": [],
   "source": [
    "import bson\n",
    "from bson.objectid import ObjectId"
   ]
  },
  {
   "cell_type": "code",
   "execution_count": 45,
   "metadata": {},
   "outputs": [
    {
     "data": {
      "text/plain": [
       "{'_id': ObjectId('65511e6f221ffc78622e56c7'),\n",
       " 'rollno': 106,\n",
       " 'stud_name': 'veena',\n",
       " 'loc': 'pune'}"
      ]
     },
     "execution_count": 45,
     "metadata": {},
     "output_type": "execute_result"
    }
   ],
   "source": [
    "coll.find_one({\"_id\":ObjectId(\"65511e6f221ffc78622e56c7\")})"
   ]
  },
  {
   "cell_type": "markdown",
   "metadata": {},
   "source": [
    "update_many() : updates multiple documents\n",
    "\n",
    "update_many() : collection_name.update_many({filter condition},{\"$set\":{\"key\":new value,\"key1\":new value}})\n",
    "\n",
    "without filter condition : updates all documents in the collection\n",
    "\n",
    "with filter condition : update all matched documents in the collection"
   ]
  },
  {
   "cell_type": "code",
   "execution_count": 46,
   "metadata": {},
   "outputs": [
    {
     "data": {
      "text/plain": [
       "UpdateResult({'n': 3, 'nModified': 3, 'ok': 1.0, 'updatedExisting': True}, acknowledged=True)"
      ]
     },
     "execution_count": 46,
     "metadata": {},
     "output_type": "execute_result"
    }
   ],
   "source": [
    "coll.update_many({\"rollno\":{\"$gt\":104}},{\"$set\":{\"loc\":\"Bombay\"}})"
   ]
  },
  {
   "cell_type": "code",
   "execution_count": 47,
   "metadata": {},
   "outputs": [
    {
     "data": {
      "text/plain": [
       "UpdateResult({'n': 1, 'nModified': 1, 'ok': 1.0, 'updatedExisting': True}, acknowledged=True)"
      ]
     },
     "execution_count": 47,
     "metadata": {},
     "output_type": "execute_result"
    }
   ],
   "source": [
    "coll.update_one({},{\"$set\":{\"loc\":\"DuabiPhata\",\"contact\":7741}})"
   ]
  },
  {
   "cell_type": "code",
   "execution_count": 48,
   "metadata": {},
   "outputs": [
    {
     "data": {
      "text/plain": [
       "UpdateResult({'n': 1, 'nModified': 1, 'ok': 1.0, 'updatedExisting': True}, acknowledged=True)"
      ]
     },
     "execution_count": 48,
     "metadata": {},
     "output_type": "execute_result"
    }
   ],
   "source": [
    "coll.update_one({\"rollno\":103},{\"$set\":{\"loc\":\"Warsaw\"}})"
   ]
  },
  {
   "cell_type": "code",
   "execution_count": 49,
   "metadata": {},
   "outputs": [
    {
     "data": {
      "text/plain": [
       "UpdateResult({'n': 7, 'nModified': 7, 'ok': 1.0, 'updatedExisting': True}, acknowledged=True)"
      ]
     },
     "execution_count": 49,
     "metadata": {},
     "output_type": "execute_result"
    }
   ],
   "source": [
    "coll.update_many({},{\"$set\":{\"Branch\":\"Comp\"}})"
   ]
  },
  {
   "cell_type": "code",
   "execution_count": 50,
   "metadata": {},
   "outputs": [
    {
     "data": {
      "text/plain": [
       "UpdateResult({'n': 7, 'nModified': 3, 'ok': 1.0, 'updatedExisting': True}, acknowledged=True)"
      ]
     },
     "execution_count": 50,
     "metadata": {},
     "output_type": "execute_result"
    }
   ],
   "source": [
    "coll.update_many({},{\"$unset\":{\"contact\":1}})"
   ]
  },
  {
   "cell_type": "markdown",
   "metadata": {},
   "source": [
    "delete data : \n",
    "\n",
    "delete_one() : deletes a single document\n",
    "\n",
    "delete_many() : deletes multiple documents"
   ]
  },
  {
   "cell_type": "markdown",
   "metadata": {},
   "source": [
    "delete_one : collection_name.delete_one({filter condition})\n",
    "\n",
    "without filter condition : deletes the first document in the collection\n",
    "\n",
    "with filter condition : deleted the first matched document in the collection "
   ]
  },
  {
   "cell_type": "code",
   "execution_count": 51,
   "metadata": {},
   "outputs": [
    {
     "data": {
      "text/plain": [
       "DeleteResult({'n': 1, 'ok': 1.0}, acknowledged=True)"
      ]
     },
     "execution_count": 51,
     "metadata": {},
     "output_type": "execute_result"
    }
   ],
   "source": [
    "coll.delete_one({})"
   ]
  },
  {
   "cell_type": "code",
   "execution_count": 52,
   "metadata": {},
   "outputs": [
    {
     "data": {
      "text/plain": [
       "DeleteResult({'n': 1, 'ok': 1.0}, acknowledged=True)"
      ]
     },
     "execution_count": 52,
     "metadata": {},
     "output_type": "execute_result"
    }
   ],
   "source": [
    "coll.delete_one({\"gender\":\"m\"})"
   ]
  },
  {
   "cell_type": "markdown",
   "metadata": {},
   "source": [
    "delete_many() : deletes multiple documents in the collection\n",
    "\n",
    "delete_many() : collection_name.delete_many({filter condition})\n",
    "\n",
    "without filter condition : deletes all documents in the collection\n",
    "\n",
    "with filter condition : deletes all matched documents in the collection"
   ]
  },
  {
   "cell_type": "code",
   "execution_count": 53,
   "metadata": {},
   "outputs": [
    {
     "data": {
      "text/plain": [
       "DeleteResult({'n': 3, 'ok': 1.0}, acknowledged=True)"
      ]
     },
     "execution_count": 53,
     "metadata": {},
     "output_type": "execute_result"
    }
   ],
   "source": [
    "coll.delete_many({\"rollno\":{\"$gt\":103}})"
   ]
  },
  {
   "cell_type": "code",
   "execution_count": 54,
   "metadata": {},
   "outputs": [
    {
     "data": {
      "text/plain": [
       "DeleteResult({'n': 2, 'ok': 1.0}, acknowledged=True)"
      ]
     },
     "execution_count": 54,
     "metadata": {},
     "output_type": "execute_result"
    }
   ],
   "source": [
    "coll.delete_many({})"
   ]
  },
  {
   "cell_type": "markdown",
   "metadata": {},
   "source": [
    "Drop collection"
   ]
  },
  {
   "cell_type": "markdown",
   "metadata": {},
   "source": [
    "collection_name.drop()"
   ]
  },
  {
   "cell_type": "code",
   "execution_count": 55,
   "metadata": {},
   "outputs": [],
   "source": [
    "coll.drop()"
   ]
  },
  {
   "cell_type": "markdown",
   "metadata": {},
   "source": [
    "Drop Database"
   ]
  },
  {
   "cell_type": "code",
   "execution_count": 56,
   "metadata": {},
   "outputs": [],
   "source": [
    "client.drop_database(\"college\")"
   ]
  },
  {
   "cell_type": "markdown",
   "metadata": {},
   "source": [
    "Import csv file into mongodb collection"
   ]
  },
  {
   "cell_type": "code",
   "execution_count": 57,
   "metadata": {},
   "outputs": [
    {
     "data": {
      "text/plain": [
       "InsertManyResult([ObjectId('65513449221ffc78622e56c9'), ObjectId('65513449221ffc78622e56ca'), ObjectId('65513449221ffc78622e56cb'), ObjectId('65513449221ffc78622e56cc'), ObjectId('65513449221ffc78622e56cd'), ObjectId('65513449221ffc78622e56ce'), ObjectId('65513449221ffc78622e56cf'), ObjectId('65513449221ffc78622e56d0'), ObjectId('65513449221ffc78622e56d1'), ObjectId('65513449221ffc78622e56d2'), ObjectId('65513449221ffc78622e56d3'), ObjectId('65513449221ffc78622e56d4'), ObjectId('65513449221ffc78622e56d5'), ObjectId('65513449221ffc78622e56d6'), ObjectId('65513449221ffc78622e56d7'), ObjectId('65513449221ffc78622e56d8'), ObjectId('65513449221ffc78622e56d9'), ObjectId('65513449221ffc78622e56da'), ObjectId('65513449221ffc78622e56db'), ObjectId('65513449221ffc78622e56dc'), ObjectId('65513449221ffc78622e56dd'), ObjectId('65513449221ffc78622e56de'), ObjectId('65513449221ffc78622e56df'), ObjectId('65513449221ffc78622e56e0'), ObjectId('65513449221ffc78622e56e1'), ObjectId('65513449221ffc78622e56e2'), ObjectId('65513449221ffc78622e56e3'), ObjectId('65513449221ffc78622e56e4'), ObjectId('65513449221ffc78622e56e5'), ObjectId('65513449221ffc78622e56e6'), ObjectId('65513449221ffc78622e56e7'), ObjectId('65513449221ffc78622e56e8'), ObjectId('65513449221ffc78622e56e9'), ObjectId('65513449221ffc78622e56ea'), ObjectId('65513449221ffc78622e56eb'), ObjectId('65513449221ffc78622e56ec'), ObjectId('65513449221ffc78622e56ed'), ObjectId('65513449221ffc78622e56ee'), ObjectId('65513449221ffc78622e56ef'), ObjectId('65513449221ffc78622e56f0'), ObjectId('65513449221ffc78622e56f1'), ObjectId('65513449221ffc78622e56f2'), ObjectId('65513449221ffc78622e56f3'), ObjectId('65513449221ffc78622e56f4'), ObjectId('65513449221ffc78622e56f5'), ObjectId('65513449221ffc78622e56f6'), ObjectId('65513449221ffc78622e56f7'), ObjectId('65513449221ffc78622e56f8'), ObjectId('65513449221ffc78622e56f9'), ObjectId('65513449221ffc78622e56fa'), ObjectId('65513449221ffc78622e56fb'), ObjectId('65513449221ffc78622e56fc'), ObjectId('65513449221ffc78622e56fd'), ObjectId('65513449221ffc78622e56fe'), ObjectId('65513449221ffc78622e56ff'), ObjectId('65513449221ffc78622e5700'), ObjectId('65513449221ffc78622e5701'), ObjectId('65513449221ffc78622e5702'), ObjectId('65513449221ffc78622e5703'), ObjectId('65513449221ffc78622e5704'), ObjectId('65513449221ffc78622e5705'), ObjectId('65513449221ffc78622e5706'), ObjectId('65513449221ffc78622e5707'), ObjectId('65513449221ffc78622e5708'), ObjectId('65513449221ffc78622e5709'), ObjectId('65513449221ffc78622e570a'), ObjectId('65513449221ffc78622e570b'), ObjectId('65513449221ffc78622e570c'), ObjectId('65513449221ffc78622e570d'), ObjectId('65513449221ffc78622e570e'), ObjectId('65513449221ffc78622e570f'), ObjectId('65513449221ffc78622e5710'), ObjectId('65513449221ffc78622e5711'), ObjectId('65513449221ffc78622e5712'), ObjectId('65513449221ffc78622e5713'), ObjectId('65513449221ffc78622e5714'), ObjectId('65513449221ffc78622e5715'), ObjectId('65513449221ffc78622e5716'), ObjectId('65513449221ffc78622e5717'), ObjectId('65513449221ffc78622e5718'), ObjectId('65513449221ffc78622e5719'), ObjectId('65513449221ffc78622e571a'), ObjectId('65513449221ffc78622e571b'), ObjectId('65513449221ffc78622e571c'), ObjectId('65513449221ffc78622e571d'), ObjectId('65513449221ffc78622e571e'), ObjectId('65513449221ffc78622e571f'), ObjectId('65513449221ffc78622e5720'), ObjectId('65513449221ffc78622e5721'), ObjectId('65513449221ffc78622e5722'), ObjectId('65513449221ffc78622e5723'), ObjectId('65513449221ffc78622e5724'), ObjectId('65513449221ffc78622e5725'), ObjectId('65513449221ffc78622e5726'), ObjectId('65513449221ffc78622e5727'), ObjectId('65513449221ffc78622e5728'), ObjectId('65513449221ffc78622e5729'), ObjectId('65513449221ffc78622e572a'), ObjectId('65513449221ffc78622e572b'), ObjectId('65513449221ffc78622e572c'), ObjectId('65513449221ffc78622e572d'), ObjectId('65513449221ffc78622e572e'), ObjectId('65513449221ffc78622e572f'), ObjectId('65513449221ffc78622e5730'), ObjectId('65513449221ffc78622e5731'), ObjectId('65513449221ffc78622e5732'), ObjectId('65513449221ffc78622e5733'), ObjectId('65513449221ffc78622e5734'), ObjectId('65513449221ffc78622e5735'), ObjectId('65513449221ffc78622e5736'), ObjectId('65513449221ffc78622e5737'), ObjectId('65513449221ffc78622e5738'), ObjectId('65513449221ffc78622e5739'), ObjectId('65513449221ffc78622e573a'), ObjectId('65513449221ffc78622e573b'), ObjectId('65513449221ffc78622e573c'), ObjectId('65513449221ffc78622e573d'), ObjectId('65513449221ffc78622e573e'), ObjectId('65513449221ffc78622e573f'), ObjectId('65513449221ffc78622e5740'), ObjectId('65513449221ffc78622e5741'), ObjectId('65513449221ffc78622e5742'), ObjectId('65513449221ffc78622e5743'), ObjectId('65513449221ffc78622e5744'), ObjectId('65513449221ffc78622e5745'), ObjectId('65513449221ffc78622e5746'), ObjectId('65513449221ffc78622e5747'), ObjectId('65513449221ffc78622e5748'), ObjectId('65513449221ffc78622e5749'), ObjectId('65513449221ffc78622e574a'), ObjectId('65513449221ffc78622e574b'), ObjectId('65513449221ffc78622e574c'), ObjectId('65513449221ffc78622e574d'), ObjectId('65513449221ffc78622e574e'), ObjectId('65513449221ffc78622e574f'), ObjectId('65513449221ffc78622e5750'), ObjectId('65513449221ffc78622e5751'), ObjectId('65513449221ffc78622e5752'), ObjectId('65513449221ffc78622e5753'), ObjectId('65513449221ffc78622e5754'), ObjectId('65513449221ffc78622e5755'), ObjectId('65513449221ffc78622e5756'), ObjectId('65513449221ffc78622e5757'), ObjectId('65513449221ffc78622e5758'), ObjectId('65513449221ffc78622e5759'), ObjectId('65513449221ffc78622e575a'), ObjectId('65513449221ffc78622e575b'), ObjectId('65513449221ffc78622e575c'), ObjectId('65513449221ffc78622e575d'), ObjectId('65513449221ffc78622e575e')], acknowledged=True)"
      ]
     },
     "execution_count": 57,
     "metadata": {},
     "output_type": "execute_result"
    }
   ],
   "source": [
    "df=pd.read_csv(\"Iris.csv\")\n",
    "data = df.to_dict(orient=\"records\")\n",
    "db=client[\"Iris\"]\n",
    "db.Iris.insert_many(data)"
   ]
  },
  {
   "cell_type": "markdown",
   "metadata": {},
   "source": [
    "import json files into mongo collection"
   ]
  },
  {
   "cell_type": "code",
   "execution_count": 58,
   "metadata": {},
   "outputs": [],
   "source": [
    "import json"
   ]
  },
  {
   "cell_type": "code",
   "execution_count": 59,
   "metadata": {},
   "outputs": [
    {
     "data": {
      "text/plain": [
       "InsertManyResult([ObjectId('655134fb221ffc78622e575f'), ObjectId('655134fb221ffc78622e5760'), ObjectId('655134fb221ffc78622e5761'), ObjectId('655134fb221ffc78622e5762'), ObjectId('655134fb221ffc78622e5763')], acknowledged=True)"
      ]
     },
     "execution_count": 59,
     "metadata": {},
     "output_type": "execute_result"
    }
   ],
   "source": [
    "f=open(\"Abhishek.json\")\n",
    "data = json.load(f)\n",
    "db.Abhishek.insert_many(data)"
   ]
  },
  {
   "cell_type": "code",
   "execution_count": null,
   "metadata": {},
   "outputs": [],
   "source": []
  }
 ],
 "metadata": {
  "kernelspec": {
   "display_name": "Python 3",
   "language": "python",
   "name": "python3"
  },
  "language_info": {
   "codemirror_mode": {
    "name": "ipython",
    "version": 3
   },
   "file_extension": ".py",
   "mimetype": "text/x-python",
   "name": "python",
   "nbconvert_exporter": "python",
   "pygments_lexer": "ipython3",
   "version": "3.11.3"
  }
 },
 "nbformat": 4,
 "nbformat_minor": 2
}
